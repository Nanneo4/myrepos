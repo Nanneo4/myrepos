{
 "cells": [
  {
   "cell_type": "markdown",
   "id": "9c4e0656-f9c1-4a6c-b377-8bf577c90d3b",
   "metadata": {
    "tags": []
   },
   "source": [
    "# Data Science Tools and Ecosystem"
   ]
  },
  {
   "cell_type": "markdown",
   "id": "39af20e1-13ae-4f97-aec5-9c900565fda7",
   "metadata": {
    "tags": []
   },
   "source": [
    "In this notebook, Data Science Tools and Ecosystem are summarized."
   ]
  },
  {
   "cell_type": "markdown",
   "id": "316ef2e8-138c-44dd-9227-17e9b881c238",
   "metadata": {},
   "source": [
    "#### Objectives:\n",
    "- List popular languages for Data Science\n",
    "- List of commonly used libraries used in Data Science\n",
    "- Some Exemple code with Python"
   ]
  },
  {
   "cell_type": "markdown",
   "id": "36ee731c-84e8-4b10-9e39-2d7f02eb02b7",
   "metadata": {},
   "source": [
    "##### Some of the popular languages that Data Scientists use are:"
   ]
  },
  {
   "cell_type": "markdown",
   "id": "08217b0a-ed7d-40b5-8226-457f58d82b8d",
   "metadata": {},
   "source": [
    "1. Python\n",
    "2. SQL\n",
    "3. R"
   ]
  },
  {
   "cell_type": "markdown",
   "id": "18633bbe-6ae3-4348-befb-af0d15102ac3",
   "metadata": {},
   "source": [
    "##### Some of the commonly used libraries used by Data Scientists include:"
   ]
  },
  {
   "cell_type": "markdown",
   "id": "e53de077-20aa-4001-bf23-d11bb3461056",
   "metadata": {
    "tags": []
   },
   "source": [
    "1. Pandas\n",
    "2. Numpy\n",
    "3. Sickit-learn"
   ]
  },
  {
   "cell_type": "markdown",
   "id": "1accfb02-62bd-4504-a5cb-f71ef99ab1e7",
   "metadata": {},
   "source": [
    "##### Data Science Tools:"
   ]
  },
  {
   "cell_type": "markdown",
   "id": "8f87b87a-0161-46bf-86fd-68015cab63f7",
   "metadata": {},
   "source": [
    "| Data Science Tools |\n",
    "|:------------------:|\n",
    "|  Rstudio  |  \n",
    "|  Apach hadoop   |  \n",
    "|  Tensorflow  | "
   ]
  },
  {
   "cell_type": "markdown",
   "id": "e704ae46-baec-4f21-84fb-3b3402ae5a06",
   "metadata": {},
   "source": [
    "### Below are a few examples of evaluating arithmetic expressions in Python"
   ]
  },
  {
   "cell_type": "code",
   "execution_count": 8,
   "id": "969bbe2e-64dc-43e1-884e-c8151bf34a19",
   "metadata": {
    "tags": []
   },
   "outputs": [
    {
     "data": {
      "text/plain": [
       "17"
      ]
     },
     "execution_count": 8,
     "metadata": {},
     "output_type": "execute_result"
    }
   ],
   "source": [
    "# This a simple arithmetic expression to mutiply then add integers\n",
    "(3*4)+5"
   ]
  },
  {
   "cell_type": "code",
   "execution_count": 10,
   "id": "f2dc1b3c-3740-488f-b9ba-c88dbe6a232f",
   "metadata": {
    "tags": []
   },
   "outputs": [
    {
     "data": {
      "text/plain": [
       "3.3333333333333335"
      ]
     },
     "execution_count": 10,
     "metadata": {},
     "output_type": "execute_result"
    }
   ],
   "source": [
    "# This will convert 200 minutes to hours by diving by 60\n",
    "200/60"
   ]
  },
  {
   "cell_type": "markdown",
   "id": "55f3e3a9-0631-48ac-a80b-57d5a4e21417",
   "metadata": {},
   "source": [
    "## Author\n",
    "Azzaoui Nabil"
   ]
  },
  {
   "cell_type": "code",
   "execution_count": null,
   "id": "8e19e14a-9a1d-476e-91bf-392496654000",
   "metadata": {},
   "outputs": [],
   "source": []
  }
 ],
 "metadata": {
  "kernelspec": {
   "display_name": "Python",
   "language": "python",
   "name": "conda-env-python-py"
  },
  "language_info": {
   "codemirror_mode": {
    "name": "ipython",
    "version": 3
   },
   "file_extension": ".py",
   "mimetype": "text/x-python",
   "name": "python",
   "nbconvert_exporter": "python",
   "pygments_lexer": "ipython3",
   "version": "3.7.12"
  }
 },
 "nbformat": 4,
 "nbformat_minor": 5
}
